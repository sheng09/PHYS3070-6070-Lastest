{
 "cells": [
  {
   "cell_type": "markdown",
   "source": [
    "### Example: 2019-07-16 Earthquake near Byron, California\n",
    "Prepared by Andrea Chiang, andrea@llnl.gov\n",
    "\n",
    "USGS event information URL https://earthquake.usgs.gov/earthquakes/eventpage/nc73225421/executive\n",
    "\n",
    "In this tutorial we will:\n",
    "* Download and process data.\n",
    "* Calculate Green's functions.\n",
    "* Calculate moment tensor using tdmtpy.\n",
    "\n",
    "Green's functions are computed using the software package Computer Porgrams in Seismology by Robert Herrmann (http://www.eas.slu.edu/eqc/eqccps.html).\n",
    "\n",
    "To run this tutorial you will need Python 3+ and the following packages:\n",
    "* ObsPy\n",
    "* pandas\n",
    "* matplotlib\n",
    "* NumPy\n",
    "* MTtime"
   ],
   "metadata": {}
  },
  {
   "cell_type": "code",
   "execution_count": 1,
   "source": [
    "# Import third-party libraries\n",
    "from pathlib import Path\n",
    "from obspy.clients.fdsn import Client\n",
    "from obspy import read_events, UTCDateTime\n",
    "from obspy.clients.fdsn.mass_downloader import CircularDomain, Restrictions, MassDownloader"
   ],
   "outputs": [],
   "metadata": {
    "lines_to_next_cell": 2
   }
  },
  {
   "cell_type": "markdown",
   "source": [
    "I have set the search variables to download only the earthquake of interest, and the quakeml file already exists.\n",
    "\n",
    "To download the event information change\n",
    "```python\n",
    "event_bool = True\n",
    "```"
   ],
   "metadata": {}
  },
  {
   "cell_type": "code",
   "execution_count": 2,
   "source": [
    "event_bool = True\n",
    "\n",
    "if event_bool:\n",
    "    dataCenter=\"IRIS\"\n",
    "    client = Client(dataCenter)\n",
    "    starttime = UTCDateTime(\"2019-07-16T00:00:00\")\n",
    "    endtime = UTCDateTime(\"2019-07-16T23:59:59\")\n",
    "    catalog = client.get_events(starttime=starttime, endtime=endtime,\n",
    "                        minmagnitude=4,maxmagnitude=5,\n",
    "                        minlatitude=36, maxlatitude=38,\n",
    "                        minlongitude=-122, maxlongitude=-120)\n",
    "    catalog.write(\"quakes.xml\",format=\"QUAKEML\")\n"
   ],
   "outputs": [],
   "metadata": {}
  },
  {
   "cell_type": "markdown",
   "source": [
    "### Download data\n",
    "We will download the waveforms and station metadata from the Northern California Earthquake Data Center (NCEDC) using ObsPy's mass_downloader function.\n",
    "\n",
    "The next cell will create a directory for each event and all files will be stored there. In addition to MSEED and STATIONXML files we will also write the event origin information to a text file. This text file will be stored in the current working directory."
   ],
   "metadata": {}
  },
  {
   "cell_type": "code",
   "execution_count": 3,
   "source": [
    "dataCenter=\"NCEDC\" \n",
    "\n",
    "# Time before and after event origin for waveform segments\n",
    "time_before = 60\n",
    "time_after = 300\n",
    "download_bool = True\n",
    "\n",
    "catalog = read_events(\"quakes.xml\")\n",
    "for event in catalog:\n",
    "    evid = str(catalog[0].origins[0].resource_id).split(\"=\")[-1] # User origin resource id as the event id\n",
    "    outdir = evid\n",
    "    Path(outdir).mkdir(parents=True,exist_ok=True)\n",
    "    \n",
    "    # Event origin\n",
    "    origin_time = event.preferred_origin().time\n",
    "    starttime = origin_time - time_before\n",
    "    endtime = origin_time + time_after\n",
    "    \n",
    "    # Event location\n",
    "    evlo = event.preferred_origin().longitude\n",
    "    evla = event.preferred_origin().latitude\n",
    "    depth = event.preferred_origin().depth # in meters\n",
    "    \n",
    "    # Set the search area\n",
    "    domain = CircularDomain(latitude=evla, longitude=evlo, minradius=0.7, maxradius=1.3)\n",
    "    \n",
    "    # Set the search period and additional criteria\n",
    "    restrictions = Restrictions(starttime=starttime, endtime=endtime,\n",
    "        reject_channels_with_gaps=True,\n",
    "        minimum_length=0.95,\n",
    "        network=\"BK\",\n",
    "        channel_priorities=[\"BH[ZNE12]\", \"HH[ZNE12]\"],\n",
    "        sanitize=True)\n",
    "    \n",
    "    # Save catalog info to file\n",
    "    event_out = (\n",
    "        \"{evid:s},{origin:s},{jdate:s},\"\n",
    "        \"{lon:.4f},{lat:.4f},{depth:.4f},\"\n",
    "        \"{mag:.2f},{auth:s}\\n\"\n",
    "        )        \n",
    "\n",
    "    if event.preferred_magnitude() is None:\n",
    "        mag = -999.\n",
    "        magtype = \"ml\"\n",
    "    else:\n",
    "        mag = event.preferred_magnitude().mag\n",
    "        magtype = event.preferred_magnitude().magnitude_type.lower()\n",
    "    if event.preferred_origin().extra.catalog.value is None:\n",
    "        auth = \"unknown\"\n",
    "    else:\n",
    "        auth = event.preferred_origin().extra.catalog.value.replace(\" \",\"\")\n",
    "        \n",
    "    event_out = event_out.format(\n",
    "        evid=evid,\n",
    "        origin=str(origin_time),\n",
    "        jdate=\"%s%s\"%(origin_time.year,origin_time.julday),\n",
    "        lon=evlo,\n",
    "        lat=evla,\n",
    "        depth=depth/1E3,\n",
    "        mag=mag,\n",
    "        auth=auth\n",
    "        )\n",
    "        \n",
    "    outfile = \"datetime.csv\"\n",
    "    with open(outfile,\"w\") as f:\n",
    "        f.write(\"evid,origin,jdate,lon,lat,depth,%s,auth\\n\"%magtype)\n",
    "        f.write(event_out)\n",
    "        \n",
    "    # Dowanload waveforms and metadata\n",
    "    if download_bool:\n",
    "        mseed_storage = \"%s/waveforms\"%outdir\n",
    "        stationxml_storage = \"%s/stations\"%outdir\n",
    "        mdl = MassDownloader(providers=[dataCenter])\n",
    "        mdl_helper = mdl.download(domain, restrictions,\n",
    "            mseed_storage=mseed_storage,stationxml_storage=stationxml_storage)\n",
    "        print(\"%s download completed\"%outdir)\n",
    "        \n",
    "        \n",
    "    print(\"%s is DONE.\"%outdir)"
   ],
   "outputs": [
    {
     "output_type": "stream",
     "name": "stderr",
     "text": [
      "[2021-07-29 01:43:13,587] - obspy.clients.fdsn.mass_downloader - INFO: Initializing FDSN client(s) for NCEDC.\n",
      "[2021-07-29 01:43:14,315] - obspy.clients.fdsn.mass_downloader - INFO: Successfully initialized 1 client(s): NCEDC.\n",
      "[2021-07-29 01:43:14,316] - obspy.clients.fdsn.mass_downloader - INFO: Total acquired or preexisting stations: 0\n",
      "[2021-07-29 01:43:14,317] - obspy.clients.fdsn.mass_downloader - INFO: Client 'NCEDC' - Requesting unreliable availability.\n",
      "[2021-07-29 01:43:17,475] - obspy.clients.fdsn.mass_downloader - INFO: Client 'NCEDC' - Successfully requested availability (3.16 seconds)\n",
      "[2021-07-29 01:43:17,578] - obspy.clients.fdsn.mass_downloader - INFO: Client 'NCEDC' - Found 13 stations (39 channels).\n",
      "[2021-07-29 01:43:17,580] - obspy.clients.fdsn.mass_downloader - INFO: Client 'NCEDC' - Will attempt to download data from 13 stations.\n",
      "[2021-07-29 01:43:17,585] - obspy.clients.fdsn.mass_downloader - INFO: Client 'NCEDC' - Status for 36 time intervals/channels before downloading: EXISTS\n",
      "[2021-07-29 01:43:17,586] - obspy.clients.fdsn.mass_downloader - INFO: Client 'NCEDC' - Status for 3 time intervals/channels before downloading: NEEDS_DOWNLOADING\n",
      "[2021-07-29 01:43:19,923] - obspy.clients.fdsn.mass_downloader - INFO: Client 'NCEDC' - No data available for request.\n",
      "[2021-07-29 01:43:19,924] - obspy.clients.fdsn.mass_downloader - INFO: Client 'NCEDC' - Launching basic QC checks...\n",
      "[2021-07-29 01:43:19,925] - obspy.clients.fdsn.mass_downloader - INFO: Client 'NCEDC' - Downloaded 0.0 MB [0.00 KB/sec] of data, 0.0 MB of which were discarded afterwards.\n",
      "[2021-07-29 01:43:19,926] - obspy.clients.fdsn.mass_downloader - INFO: Client 'NCEDC' - Status for 3 time intervals/channels after downloading: DOWNLOAD_FAILED\n",
      "[2021-07-29 01:43:19,928] - obspy.clients.fdsn.mass_downloader - INFO: Client 'NCEDC' - Status for 36 time intervals/channels after downloading: EXISTS\n",
      "[2021-07-29 01:43:19,993] - obspy.clients.fdsn.mass_downloader - INFO: Client 'NCEDC' - No station information to download.\n",
      "[2021-07-29 01:43:20,009] - obspy.clients.fdsn.mass_downloader - INFO: ============================== Final report\n",
      "[2021-07-29 01:43:20,011] - obspy.clients.fdsn.mass_downloader - INFO: 36 MiniSEED files [3.7 MB] already existed.\n",
      "[2021-07-29 01:43:20,012] - obspy.clients.fdsn.mass_downloader - INFO: 12 StationXML files [1.0 MB] already existed.\n",
      "[2021-07-29 01:43:20,013] - obspy.clients.fdsn.mass_downloader - INFO: Client 'NCEDC' - Acquired 0 MiniSEED files [0.0 MB].\n",
      "[2021-07-29 01:43:20,014] - obspy.clients.fdsn.mass_downloader - INFO: Client 'NCEDC' - Acquired 0 StationXML files [0.0 MB].\n",
      "[2021-07-29 01:43:20,015] - obspy.clients.fdsn.mass_downloader - INFO: Downloaded 0.0 MB in total.\n"
     ]
    },
    {
     "output_type": "stream",
     "name": "stdout",
     "text": [
      "40191336 download completed\n",
      "40191336 is DONE.\n"
     ]
    }
   ],
   "metadata": {
    "lines_to_end_of_cell_marker": 2,
    "lines_to_next_cell": 0
   }
  },
  {
   "cell_type": "markdown",
   "source": [
    "**Now we've downloaded the raw data, the next step is to process them.**"
   ],
   "metadata": {
    "lines_to_next_cell": 2
   }
  }
 ],
 "metadata": {
  "jupytext": {
   "formats": "ipynb,py:light"
  },
  "kernelspec": {
   "name": "python3",
   "display_name": "Python 3.7.4 64-bit"
  },
  "language_info": {
   "codemirror_mode": {
    "name": "ipython",
    "version": 3
   },
   "file_extension": ".py",
   "mimetype": "text/x-python",
   "name": "python",
   "nbconvert_exporter": "python",
   "pygments_lexer": "ipython3",
   "version": "3.7.4"
  },
  "interpreter": {
   "hash": "aee8b7b246df8f9039afb4144a1f6fd8d2ca17a180786b69acc140d282b71a49"
  }
 },
 "nbformat": 4,
 "nbformat_minor": 4
}