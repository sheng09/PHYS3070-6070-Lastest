{
 "cells": [
  {
   "cell_type": "markdown",
   "metadata": {},
   "source": [
    "# Lab2 Moment tensor inversion\n",
    "\n",
    "In this lab you will learn:\n",
    "- **Download and process data.**\n",
    "- **Calculate Green's functions.**\n",
    "- **Calculate moment tensor using tdmtpy.**\n",
    "\n",
    "## An example earthquake 2019-10-15 05:33:42 (UTC) 1km SSE of Pleasant Hill, CA\n",
    "[USGS event information for the earthquake](https://earthquake.usgs.gov/earthquakes/eventpage/nc73291880/executive)\n",
    "\n",
    "\n",
    "## Package/module Requirements \n",
    "Green's functions are computed using the software package Computer Porgrams in Seismology (CPS) by Robert Herrmann (http://www.eas.slu.edu/eqc/eqccps.html). On `compute2`, we have installed the CPS for you.\n",
    "\n",
    "Also, you will the packages for Python3: `obsPy`, `pandas`, `matplotlib`, `numpy`, `mttime`. We have pre-installed them for you. Or you can install it by youself by using the command `pip3` in your Linux terminal:\n",
    "\n",
    "```bash\n",
    "pip3 install --user obspy pandas matplotlib numpy \n",
    "pip3 install --user  git+https://github.com/LLNL/mttime\n",
    "```\n",
    "\n",
    "\n"
   ]
  },
  {
   "cell_type": "markdown",
   "metadata": {},
   "source": [
    "# 1. Download data\n"
   ]
  },
  {
   "cell_type": "code",
   "execution_count": 1,
   "metadata": {
    "lines_to_next_cell": 2
   },
   "outputs": [],
   "source": [
    "# Import third-party libraries\n",
    "from pathlib import Path\n",
    "from obspy.clients.fdsn import Client\n",
    "from obspy import read_events, UTCDateTime\n",
    "from obspy.clients.fdsn.mass_downloader import CircularDomain, Restrictions, MassDownloader"
   ]
  },
  {
   "cell_type": "code",
   "execution_count": 2,
   "metadata": {},
   "outputs": [],
   "source": [
    "# 1.1 lets search for and download information about an earthquake\n",
    "#     The information will be used for downloading waveforms in #1.2.\n",
    "\n",
    "event_bool = True\n",
    "if event_bool:\n",
    "    dataCenter=\"IRIS\"\n",
    "    client = Client(dataCenter)\n",
    "    starttime = UTCDateTime(\"2019-10-15T00:00:00\")\n",
    "    endtime = UTCDateTime(\"2019-10-16T23:59:59\")\n",
    "    catalog = client.get_events(starttime=starttime, endtime=endtime,\n",
    "                        minmagnitude=4,maxmagnitude=5,\n",
    "                        minlatitude=36, maxlatitude=38,\n",
    "                        minlongitude=-123, maxlongitude=-122) # we set several search options\n",
    "    catalog.write(\"quakes.xml\",format=\"QUAKEML\")\n"
   ]
  },
  {
   "cell_type": "code",
   "execution_count": 3,
   "metadata": {
    "lines_to_end_of_cell_marker": 2,
    "lines_to_next_cell": 0
   },
   "outputs": [
    {
     "name": "stderr",
     "output_type": "stream",
     "text": [
      "[2021-08-24 22:01:01,923] - obspy.clients.fdsn.mass_downloader - INFO: Initializing FDSN client(s) for NCEDC.\n",
      "[2021-08-24 22:01:02,491] - obspy.clients.fdsn.mass_downloader - INFO: Successfully initialized 1 client(s): NCEDC.\n",
      "[2021-08-24 22:01:02,492] - obspy.clients.fdsn.mass_downloader - INFO: Total acquired or preexisting stations: 0\n",
      "[2021-08-24 22:01:02,493] - obspy.clients.fdsn.mass_downloader - INFO: Client 'NCEDC' - Requesting unreliable availability.\n",
      "[2021-08-24 22:01:05,396] - obspy.clients.fdsn.mass_downloader - INFO: Client 'NCEDC' - Successfully requested availability (2.90 seconds)\n",
      "[2021-08-24 22:01:05,457] - obspy.clients.fdsn.mass_downloader - INFO: Client 'NCEDC' - Found 7 stations (21 channels).\n",
      "[2021-08-24 22:01:05,458] - obspy.clients.fdsn.mass_downloader - INFO: Client 'NCEDC' - Will attempt to download data from 7 stations.\n",
      "[2021-08-24 22:01:05,462] - obspy.clients.fdsn.mass_downloader - INFO: Client 'NCEDC' - Status for 21 time intervals/channels before downloading: NEEDS_DOWNLOADING\n",
      "[2021-08-24 22:01:08,845] - obspy.clients.fdsn.mass_downloader - INFO: Client 'NCEDC' - Successfully downloaded 18 channels (of 21)\n",
      "[2021-08-24 22:01:08,846] - obspy.clients.fdsn.mass_downloader - INFO: Client 'NCEDC' - Launching basic QC checks...\n",
      "[2021-08-24 22:01:08,903] - obspy.clients.fdsn.mass_downloader - INFO: Client 'NCEDC' - Downloaded 1.5 MB [445.93 KB/sec] of data, 0.0 MB of which were discarded afterwards.\n",
      "[2021-08-24 22:01:08,904] - obspy.clients.fdsn.mass_downloader - INFO: Client 'NCEDC' - Status for 3 time intervals/channels after downloading: DOWNLOAD_FAILED\n",
      "[2021-08-24 22:01:08,904] - obspy.clients.fdsn.mass_downloader - INFO: Client 'NCEDC' - Status for 18 time intervals/channels after downloading: DOWNLOADED\n",
      "[2021-08-24 22:01:12,113] - obspy.clients.fdsn.mass_downloader - INFO: Client 'NCEDC' - Successfully downloaded '41423391/stations/BK.FARB.xml'.\n",
      "[2021-08-24 22:01:12,115] - obspy.clients.fdsn.mass_downloader - INFO: Client 'NCEDC' - Successfully downloaded '41423391/stations/BK.MNRC.xml'.\n",
      "[2021-08-24 22:01:12,123] - obspy.clients.fdsn.mass_downloader - INFO: Client 'NCEDC' - Successfully downloaded '41423391/stations/BK.FORD.xml'.\n",
      "[2021-08-24 22:01:15,415] - obspy.clients.fdsn.mass_downloader - INFO: Client 'NCEDC' - Successfully downloaded '41423391/stations/BK.SAO.xml'.\n",
      "[2021-08-24 22:01:15,416] - obspy.clients.fdsn.mass_downloader - INFO: Client 'NCEDC' - Successfully downloaded '41423391/stations/BK.MTOS.xml'.\n",
      "[2021-08-24 22:01:15,985] - obspy.clients.fdsn.mass_downloader - INFO: Client 'NCEDC' - Successfully downloaded '41423391/stations/BK.WELL.xml'.\n",
      "[2021-08-24 22:01:16,005] - obspy.clients.fdsn.mass_downloader - INFO: Client 'NCEDC' - Downloaded 6 station files [0.3 MB] in 7.1 seconds [42.34 KB/sec].\n",
      "[2021-08-24 22:01:16,008] - obspy.clients.fdsn.mass_downloader - INFO: ============================== Final report\n",
      "[2021-08-24 22:01:16,009] - obspy.clients.fdsn.mass_downloader - INFO: 0 MiniSEED files [0.0 MB] already existed.\n",
      "[2021-08-24 22:01:16,009] - obspy.clients.fdsn.mass_downloader - INFO: 0 StationXML files [0.0 MB] already existed.\n",
      "[2021-08-24 22:01:16,011] - obspy.clients.fdsn.mass_downloader - INFO: Client 'NCEDC' - Acquired 18 MiniSEED files [1.5 MB].\n",
      "[2021-08-24 22:01:16,012] - obspy.clients.fdsn.mass_downloader - INFO: Client 'NCEDC' - Acquired 6 StationXML files [0.3 MB].\n",
      "[2021-08-24 22:01:16,014] - obspy.clients.fdsn.mass_downloader - INFO: Downloaded 1.8 MB in total.\n"
     ]
    },
    {
     "name": "stdout",
     "output_type": "stream",
     "text": [
      "Download completed into directotry 41423391\n",
      "41423391 is DONE.\n"
     ]
    }
   ],
   "source": [
    "# 1.2 Download the waveforms and station metadata \n",
    "#     from the Northern California Earthquake Data Center (NCEDC)\n",
    "#     using ObsPy's mass_downloader function.\n",
    "\n",
    "dataCenter=\"NCEDC\" \n",
    "\n",
    "# Set the time window for retrieving seismograms\n",
    "time_before = 60 # Time before event origin\n",
    "time_after = 300 # Time after event origin\n",
    "download_bool = True\n",
    "\n",
    "catalog = read_events(\"quakes.xml\")  # the `quakes.xml` was obtained in #1.1\n",
    "for event in catalog:\n",
    "    # Create a folder for the event\n",
    "    evid = str(catalog[0].origins[0].resource_id).split(\"=\")[-1] # User origin resource id as the event id\n",
    "    outdir = evid\n",
    "    Path(outdir).mkdir(parents=True,exist_ok=True)\n",
    "    \n",
    "    # Then, we will search for seismograms by providing information of the event\n",
    "    ## the event origin time\n",
    "    origin_time = event.preferred_origin().time\n",
    "    starttime = origin_time - time_before\n",
    "    endtime = origin_time + time_after\n",
    "    \n",
    "    ## the event location\n",
    "    evlo = event.preferred_origin().longitude\n",
    "    evla = event.preferred_origin().latitude\n",
    "    depth = event.preferred_origin().depth # in meters\n",
    "    \n",
    "    ## set the search area\n",
    "    domain = CircularDomain(latitude=evla, longitude=evlo, minradius=0.7, maxradius=1.3)\n",
    "    \n",
    "    ## set the search period and additional criteria\n",
    "    restrictions = Restrictions(starttime=starttime, endtime=endtime,\n",
    "        reject_channels_with_gaps=True, minimum_length=0.95, network=\"BK\",\n",
    "        channel_priorities=[\"BH[ZNE12]\", \"HH[ZNE12]\"],\n",
    "        sanitize=True)\n",
    "    \n",
    "    ## save catalog info to file\n",
    "    event_out = (\n",
    "        \"{evid:s},{origin:s},{jdate:s},\"\n",
    "        \"{lon:.4f},{lat:.4f},{depth:.4f},\"\n",
    "        \"{mag:.2f},{auth:s}\\n\"\n",
    "        )        \n",
    "    if event.preferred_magnitude() is None:\n",
    "        mag = -999.\n",
    "        magtype = \"ml\"\n",
    "    else:\n",
    "        mag = event.preferred_magnitude().mag\n",
    "        magtype = event.preferred_magnitude().magnitude_type.lower()\n",
    "    if event.preferred_origin().extra.catalog.value is None:\n",
    "        auth = \"unknown\"\n",
    "    else:\n",
    "        auth = event.preferred_origin().extra.catalog.value.replace(\" \",\"\")\n",
    "        \n",
    "    event_out = event_out.format(\n",
    "        evid=evid,\n",
    "        origin=str(origin_time),\n",
    "        jdate=\"%s%s\"%(origin_time.year,origin_time.julday),\n",
    "        lon=evlo,\n",
    "        lat=evla,\n",
    "        depth=depth/1E3,\n",
    "        mag=mag,\n",
    "        auth=auth\n",
    "        )\n",
    "        \n",
    "    outfile = \"datetime.csv\" # we will catalog info to this file\n",
    "    with open(outfile,\"w\") as f:\n",
    "        f.write(\"evid,origin,jdate,lon,lat,depth,%s,auth\\n\"%magtype)\n",
    "        f.write(event_out)\n",
    "        \n",
    "    ## Finally, Dowanload waveforms and metadata\n",
    "    if download_bool:\n",
    "        mseed_storage = \"%s/waveforms\"%outdir\n",
    "        stationxml_storage = \"%s/stations\"%outdir\n",
    "        mdl = MassDownloader(providers=[dataCenter])\n",
    "        mdl_helper = mdl.download(domain, restrictions,\n",
    "            mseed_storage=mseed_storage,stationxml_storage=stationxml_storage)\n",
    "        print(\"Download completed into directotry %s\" % (outdir) )\n",
    "        \n",
    "        \n",
    "    print(\"%s is DONE.\"%outdir)"
   ]
  },
  {
   "cell_type": "markdown",
   "metadata": {
    "lines_to_next_cell": 2
   },
   "source": [
    "# **Now we've downloaded the raw data, the next step is to process them.**"
   ]
  },
  {
   "cell_type": "code",
   "execution_count": null,
   "metadata": {},
   "outputs": [],
   "source": []
  }
 ],
 "metadata": {
  "interpreter": {
   "hash": "aee8b7b246df8f9039afb4144a1f6fd8d2ca17a180786b69acc140d282b71a49"
  },
  "jupytext": {
   "formats": "ipynb,py:light"
  },
  "kernelspec": {
   "display_name": "Python 3",
   "language": "python",
   "name": "python3"
  },
  "language_info": {
   "codemirror_mode": {
    "name": "ipython",
    "version": 3
   },
   "file_extension": ".py",
   "mimetype": "text/x-python",
   "name": "python",
   "nbconvert_exporter": "python",
   "pygments_lexer": "ipython3",
   "version": "3.7.4"
  }
 },
 "nbformat": 4,
 "nbformat_minor": 4
}
