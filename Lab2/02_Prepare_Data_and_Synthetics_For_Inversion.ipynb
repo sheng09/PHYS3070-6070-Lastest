{
 "cells": [
  {
   "cell_type": "markdown",
   "source": [
    "### Prepare Data and Synthetics for Moment Tensor Inversion\n",
    "\n",
    "We have a few more steps to go through before inversion.\n",
    "\n",
    "One important step is to create synthetic Green's functions (aka synthetic seismograms) from wavenumber integration (FK). This type of method generates complete synthetic seismograms, we will use the software package ***Computer Programs in Seismology*** by R.B Herrmann.\n",
    "<a href=\"http://www.eas.slu.edu/eqc/eqccps.html\" target=\"_blank\">Link to software</a>\n",
    "\n",
    "In this notebook we will:\n",
    "* Filter and cut the seismograms\n",
    "* Calculate synthetic Green's functions\n",
    "* Filter the synthetic Green's functions"
   ],
   "metadata": {}
  },
  {
   "cell_type": "code",
   "execution_count": 6,
   "source": [
    "# Import third-party libraries\n",
    "import os\n",
    "from pathlib import Path\n",
    "import pandas as pd\n",
    "from obspy.core import read, UTCDateTime, Stream"
   ],
   "outputs": [],
   "metadata": {}
  },
  {
   "cell_type": "markdown",
   "source": [
    "#### Data\n",
    "The final step of data preparation is to filter and cut the seismograms. After reading the processed SAC files into ObsPy we will:\n",
    "\n",
    "* Filter and taper data\n",
    "* Down-sample data to desired sampling interval\n",
    "* Cut data relative to a reference time (e.g. origin, first arrival, etc.)\n",
    "* Convert from meters to centimeters (tdmtpy units are in dyne-cm)\n",
    "* Save the final waveforms in SAC (required)\n",
    "\n",
    "\n",
    "Let's start by reading in the processed waveforms."
   ],
   "metadata": {}
  },
  {
   "cell_type": "code",
   "execution_count": 11,
   "source": [
    "evid = \"40191336\" # event of interest\n",
    "event_dir = evid\n",
    "infile = \"%s/datetime.csv\"%event_dir # we need the event origin time\n",
    "station_file = \"%s/station.csv\"%event_dir\n",
    "\n",
    "sacdir = \"%s/sac\"%event_dir # location of processed data\n",
    "outdir = \"%s\"%event_dir # location of filtered/cut/down-sampled data for inversion\n",
    "    \n",
    "# Check if data directory exist\n",
    "P = Path(sacdir)\n",
    "if P.exists():\n",
    "    # Read event info and station info into Pandas table\n",
    "    df = pd.read_csv(infile,parse_dates=True)\n",
    "    station_df = pd.read_csv(\"%s\"%(station_file),parse_dates=True,dtype={\"location\":str},na_filter=False)\n",
    "    \n",
    "    origin_time = UTCDateTime(df[\"origin\"][0])\n",
    "    st = Stream()\n",
    "    for _,row in station_df.iterrows():\n",
    "        st += read(\"%s/%s.%s.%s.%s[%s]\"%(\n",
    "            sacdir,row.network,row.station,row.location,row.channel,row.component),format=\"SAC\")\n",
    "else:\n",
    "    print(\"Directory %s does not exist. %s does not have instrument corrected data.\"%(sacdir,evid))\n",
    "    "
   ],
   "outputs": [],
   "metadata": {}
  },
  {
   "cell_type": "markdown",
   "source": [
    "The next cell shows the processing parameters you need to define, you may need to change them for different events. Synthetic Green's functions must have the same filter, reduction velocity and sampling interval as the data."
   ],
   "metadata": {}
  },
  {
   "cell_type": "code",
   "execution_count": 12,
   "source": [
    "# Filter\n",
    "freqmin = 0.02\n",
    "freqmax = 0.05\n",
    "corners = 3\n",
    "\n",
    "# Desired sampling interval\n",
    "dt = 1.0\n",
    "\n",
    "# Reduction velocity in km/sec, 0 sets the reference time to origin time\n",
    "vred = 0\n",
    "\n",
    "# time before and after reference time, data will be cut before and after the reference time\n",
    "time_before = 30\n",
    "time_after = 200"
   ],
   "outputs": [],
   "metadata": {}
  },
  {
   "cell_type": "code",
   "execution_count": 13,
   "source": [
    "if vred:\n",
    "    p = 1/vred\n",
    "else:\n",
    "    p = 0\n",
    "    \n",
    "st.filter(\"bandpass\",freqmin=freqmin,freqmax=freqmax,corners=corners,zerophase=True)\n",
    "st.taper(max_percentage=0.05)\n",
    "\n",
    "# Trim and decimate the data\n",
    "for tr in st:\n",
    "    tr.decimate(factor=int(tr.stats.sampling_rate*dt), strict_length=False, no_filter=True)\n",
    "    tr.resample(1/dt, strict_length=False, no_filter=True)\n",
    "    tr.stats.sac.t1 = origin_time + p*(tr.stats.sac.dist) # set reference time\n",
    "    tr.trim(tr.stats.sac.t1-time_before,tr.stats.sac.t1+time_after,pad=True,fill_value=0)\n",
    "    tr.data = 100*tr.data # m/s to cm/s\n",
    "    tr.stats.sac.b = -1*(origin_time - tr.stats.starttime)\n",
    "    tr.stats.sac.o = 0\n",
    "    # Save final trace using tdmtpy file name format\n",
    "    sacout = \"%s/%s.%s.dat\"%(outdir,tr.id[:-4],tr.id[-1])\n",
    "    tr.write(sacout,format=\"SAC\")"
   ],
   "outputs": [],
   "metadata": {}
  },
  {
   "cell_type": "markdown",
   "source": [
    "### Green's Functions\n",
    "\n",
    "Now is time to calculate the synthetic Green's functions\n",
    "* Execute the FK calculation\n",
    "* Apply the same filter to the synthetics\n",
    "* Save them to the appropriate format for inversion\n",
    "\n",
    "The FK calculation requires two input files, a velocity model file and a distance file. A velocity model file **gil7.d** is provided, this is a 1D model for northern California. We will create the distance file **dfile** from the Pandas table."
   ],
   "metadata": {}
  },
  {
   "cell_type": "code",
   "execution_count": 15,
   "source": [
    "model = \"gil7\"\n",
    "#depths = round(df[\"depth\"][0]) # Only compute GFs at catalog depth\n",
    "depths = sorted([10,20,30,40,50]) # compute GF at 10, 20, ..., km\n",
    "npts = int(256) # number of points in the time series, must be a power of 2\n",
    "t0 = int(0) # used to define the first sample point, t0 + distance_in_km/vred\n",
    "\n",
    "# Location of synthetic Green's functions\n",
    "green_dir = \"%s/%s\"%(event_dir,model)\n",
    "Path(green_dir).mkdir(parents=True,exist_ok=True)\n",
    "    \n",
    "for depth in depths:\n",
    "    # Create distance file\n",
    "    dfile = (\"{dist:.0f} {dt:.2f} {npts:d} {t0:d} {vred:.1f}\\n\")\n",
    "    dfile_out = \"%s/dfile\"%event_dir\n",
    "    with open(dfile_out,\"w\") as f:\n",
    "        for _,row in station_df.iterrows():\n",
    "            f.write(dfile.format(dist=row.distance,dt=dt,npts=npts,t0=t0,vred=vred))\n",
    "\n",
    "    # Generate the synthetics\n",
    "    os.system(\"hprep96 -M %s.d -d %s -HS %.4f -HR 0 -EQEX\"%(model,dfile_out,depth))\n",
    "    os.system(\"hspec96\")\n",
    "    os.system(\"hpulse96 -D -i > file96\")\n",
    "    os.system(\"f96tosac -B file96\")\n",
    "\n",
    "    # Filter and save the synthetic Green's functions\n",
    "    greens = (\"ZDD\",\"RDD\",\"ZDS\",\"RDS\",\"TDS\",\"ZSS\",\"RSS\",\"TSS\",\"ZEX\",\"REX\")\n",
    "\n",
    "    for index,row in station_df.iterrows():      \n",
    "        for j,grn in enumerate(greens):\n",
    "            sacin = \"B%03d%02d%s.sac\"%(index+1,j+1,grn)\n",
    "            sacout = \"%s/%s.%s.%s.%.4f\"%(green_dir,row.network,row.station,row.location,depth)\n",
    "            tmp = read(sacin,format=\"SAC\")\n",
    "            tmp.filter('bandpass',freqmin=freqmin,freqmax=freqmax,corners=corners,zerophase=True)\n",
    "            tmp.write(\"%s.%s\"%(sacout,grn),format=\"SAC\") # overwrite\n",
    "\n",
    "# Uncomment to remove unfiltered synthetic SAC files\n",
    "os.system(\"rm B*.sac\") # remove the unfiltered SAC files"
   ],
   "outputs": [
    {
     "output_type": "execute_result",
     "data": {
      "text/plain": [
       "0"
      ]
     },
     "metadata": {},
     "execution_count": 15
    }
   ],
   "metadata": {}
  },
  {
   "cell_type": "markdown",
   "source": [
    "### Create input file for MTtime\n",
    "Now that we have prepared the data and synthetics for inversion, we can create the input file for tdmtpy.\n",
    "I will go over the input file format in the next notebook."
   ],
   "metadata": {}
  },
  {
   "cell_type": "code",
   "execution_count": 16,
   "source": [
    "# Create headers\n",
    "headers = dict(datetime=df[\"origin\"][0],\n",
    "               longitude=df[\"lon\"][0],\n",
    "               latitude=df[\"lat\"][0],\n",
    "               depth=\",\".join([ \"%.4f\"%d for d in depths]),\n",
    "               path_to_data=event_dir,\n",
    "               path_to_green=green_dir,\n",
    "               green=\"herrmann\",\n",
    "               components=\"ZRT\",\n",
    "               degree=5,\n",
    "               weight=\"distance\",\n",
    "               plot=0,\n",
    "               correlate=0,\n",
    "              )\n",
    "\n",
    "# Add station table\n",
    "pd.options.display.float_format = \"{:,.2f}\".format\n",
    "frame = {\"station\": station_df[[\"network\",\"station\",\"location\"]].apply(lambda x: \".\".join(x),axis=1)}\n",
    "df_out = pd.DataFrame(frame)\n",
    "df_out[[\"distance\",\"azimuth\"]] = station_df[[\"distance\",\"azimuth\"]]\n",
    "df_out[\"ts\"] = int(30)\n",
    "df_out[\"npts\"] = int(150)\n",
    "df_out[\"dt\"] = dt\n",
    "df_out[\"used\"] = 1\n",
    "df_out[[\"longitude\",\"latitude\"]] = station_df[[\"longitude\",\"latitude\"]]\n",
    "#print(df_out.to_string(index=False))"
   ],
   "outputs": [],
   "metadata": {}
  },
  {
   "cell_type": "markdown",
   "source": [
    "Save to file **mtinv.in**"
   ],
   "metadata": {}
  },
  {
   "cell_type": "code",
   "execution_count": 17,
   "source": [
    "# write\n",
    "with open(\"mtinv.in\",\"w\") as f:\n",
    "    for key, value in headers.items():\n",
    "        f.write(\"{0:<15}{1}\\n\".format(key,value))\n",
    "    f.write(df_out.to_string(index=False))"
   ],
   "outputs": [],
   "metadata": {}
  },
  {
   "cell_type": "markdown",
   "source": [
    "Now we can start the next tutorial and take a look at the moment tensor inversion package `mttime`"
   ],
   "metadata": {}
  }
 ],
 "metadata": {
  "jupytext": {
   "formats": "ipynb,py:light"
  },
  "kernelspec": {
   "name": "python3",
   "display_name": "Python 3.7.4 64-bit"
  },
  "language_info": {
   "codemirror_mode": {
    "name": "ipython",
    "version": 3
   },
   "file_extension": ".py",
   "mimetype": "text/x-python",
   "name": "python",
   "nbconvert_exporter": "python",
   "pygments_lexer": "ipython3",
   "version": "3.7.4"
  },
  "interpreter": {
   "hash": "aee8b7b246df8f9039afb4144a1f6fd8d2ca17a180786b69acc140d282b71a49"
  }
 },
 "nbformat": 4,
 "nbformat_minor": 4
}